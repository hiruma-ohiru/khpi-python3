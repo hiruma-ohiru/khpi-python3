{
 "cells": [
  {
   "cell_type": "markdown",
   "id": "ca0c72e5",
   "metadata": {},
   "source": [
    "# Laboratory work 1 \n",
    "### Tokiya Hiruma КН-221іб.е\n",
    "<legend>Jupyter Notebook Basics</legend>"
   ]
  },
  {
   "cell_type": "code",
   "execution_count": 11,
   "id": "3e6d9bee",
   "metadata": {
    "scrolled": true
   },
   "outputs": [
    {
     "name": "stdout",
     "output_type": "stream",
     "text": [
      "Variant: 5\n"
     ]
    }
   ],
   "source": [
    "print(f'Variant: {ord(\"T\") % 10 + 1}')"
   ]
  },
  {
   "cell_type": "markdown",
   "id": "bd9a5687",
   "metadata": {},
   "source": [
    "## Task 1\n",
    "<img src=\"https://upload.wikimedia.org/wikipedia/commons/thumb/1/19/Flag_of_Ghana.svg/2560px-Flag_of_Ghana.svg.png\" alt=\"flag\" width=\"200px\">\n",
    "<legend><strong style= 'background:bisque'>Ghana</strong>, officially the <strong>Republic of Ghana</strong>, is a country in West Africa. It abuts the Gulf of Guinea and the Atlantic Ocean to the south, sharing borders with Ivory Coast in the west, Burkina Faso in the north, and Togo in the east.</legend>\n",
    "\n",
    "\n",
    "Capital: Accra </span> <br>\n",
    "Area: 238,535 km<sup>2</sup> <br>\n",
    "Population: 32,103,042 <br>\n",
    "Goverment: Unitary presidential republic <br>\n",
    "\n",
    "\n",
    "<table style='border: 1px solid CornflowerBlue'>\n",
    "<tr><th colspan=\"2\">Ethnic groups</th></tr>\n",
    "<tr><th>Percentage</th><th>Group</th></tr>\n",
    "<tr><td>45.7%</td><td>Akans</td><tr>\n",
    "<tr><td>18.5%</td><td>Mole-Dagbon</td><tr>\n",
    "<tr><td>12.8%</td><td>Ewe</td><tr>\n",
    "<tr><td>7.1%</td><td>Ga-Adangbe</td><tr>\n",
    "<tr><td>6.4%</td><td>Gurma</td><tr>\n",
    "<tr><td>3.2%</td><td>Guan</td><tr>\n",
    "<tr><td>2.7%</td><td>Gurunsi</td><tr>\n",
    "<tr><td>2.0%</td><td>Mande</td><tr>\n",
    "<tr><td>1.6%</td><td>Other </td><tr>\n",
    "</table>\n",
    "\n",
    "\n",
    "### Culture\n",
    "<ul style=\"background-color:powderblue\">\n",
    "    <li>\n",
    "        <em>Food and drinks</em>\n",
    "        <ol>\n",
    "            <li>Banku</li>\n",
    "            <li>Kenkey</li>\n",
    "            <li>Fufu</li>\n",
    "            <li>Jollof</li>\n",
    "        </ol>\n",
    "    </li>\n",
    "    <li>\n",
    "        <em>Literature</em>\n",
    "        <ol>\n",
    "            <li>J. E. Casely Hayford</li>\n",
    "            <li>Ayi Kwei Armah</li>\n",
    "            <li>Nii Ayikwei Parkes</li>\n",
    "        </ol>\n",
    "    </li>\n",
    "    <li>\n",
    "        <em>Clothes</em>\n",
    "        <ol>\n",
    "            <li>Adinkra symbols</li>\n",
    "            <li>Kente cloth</li>\n",
    "        </ol>\n",
    "    </li>\n",
    "</ul>\n",
    "\n",
    "\n",
    "<em><a http=\"https://en.wikipedia.org/wiki/Ghana\">More information about Ghana</a></em>"
   ]
  },
  {
   "cell_type": "markdown",
   "id": "7f910c91",
   "metadata": {},
   "source": [
    "## Task 2"
   ]
  },
  {
   "cell_type": "code",
   "execution_count": 2,
   "id": "ef0eb969",
   "metadata": {},
   "outputs": [],
   "source": [
    "def task_5():\n",
    "    try:\n",
    "        n = int(input())\n",
    "    except ValueError: \n",
    "        return 'Error. There is a non-numeric value in the input.'\n",
    "    \n",
    "    if n > 0:\n",
    "        prime_list = [2]\n",
    "        next_prime = 3\n",
    "\n",
    "        while len(prime_list) < n:\n",
    "            for p in prime_list:\n",
    "                if next_prime % p == 0:\n",
    "                    break\n",
    "            else:\n",
    "                prime_list.append(next_prime)\n",
    "            next_prime += 2\n",
    "        return f'{n}th prime is {prime_list[-1]}' \n",
    "    else:\n",
    "        return 'Error. Number should be a natural number'"
   ]
  },
  {
   "cell_type": "code",
   "execution_count": 3,
   "id": "86e47d1c",
   "metadata": {},
   "outputs": [
    {
     "name": "stdout",
     "output_type": "stream",
     "text": [
      "5\n"
     ]
    },
    {
     "data": {
      "text/plain": [
       "'5th prime is 11'"
      ]
     },
     "execution_count": 3,
     "metadata": {},
     "output_type": "execute_result"
    }
   ],
   "source": [
    "task_5()"
   ]
  },
  {
   "cell_type": "code",
   "execution_count": 4,
   "id": "6b2bf79c",
   "metadata": {},
   "outputs": [
    {
     "name": "stdout",
     "output_type": "stream",
     "text": [
      "-3\n"
     ]
    },
    {
     "data": {
      "text/plain": [
       "'Error. Number should be a natural number'"
      ]
     },
     "execution_count": 4,
     "metadata": {},
     "output_type": "execute_result"
    }
   ],
   "source": [
    "task_5()"
   ]
  },
  {
   "cell_type": "code",
   "execution_count": 5,
   "id": "479659a9",
   "metadata": {},
   "outputs": [
    {
     "name": "stdout",
     "output_type": "stream",
     "text": [
      "qqq\n"
     ]
    },
    {
     "data": {
      "text/plain": [
       "'Error. There is a non-numeric value in the input.'"
      ]
     },
     "execution_count": 5,
     "metadata": {},
     "output_type": "execute_result"
    }
   ],
   "source": [
    "task_5()"
   ]
  },
  {
   "cell_type": "code",
   "execution_count": 6,
   "id": "87cdcc9c",
   "metadata": {},
   "outputs": [
    {
     "name": "stdout",
     "output_type": "stream",
     "text": [
      "12\n"
     ]
    },
    {
     "data": {
      "text/plain": [
       "'12th prime is 37'"
      ]
     },
     "execution_count": 6,
     "metadata": {},
     "output_type": "execute_result"
    }
   ],
   "source": [
    "task_5()"
   ]
  },
  {
   "cell_type": "code",
   "execution_count": 7,
   "id": "19317e87",
   "metadata": {},
   "outputs": [
    {
     "name": "stdout",
     "output_type": "stream",
     "text": [
      "34\n"
     ]
    },
    {
     "data": {
      "text/plain": [
       "'34th prime is 139'"
      ]
     },
     "execution_count": 7,
     "metadata": {},
     "output_type": "execute_result"
    }
   ],
   "source": [
    "task_5()"
   ]
  }
 ],
 "metadata": {
  "kernelspec": {
   "display_name": "Python 3 (ipykernel)",
   "language": "python",
   "name": "python3"
  },
  "language_info": {
   "codemirror_mode": {
    "name": "ipython",
    "version": 3
   },
   "file_extension": ".py",
   "mimetype": "text/x-python",
   "name": "python",
   "nbconvert_exporter": "python",
   "pygments_lexer": "ipython3",
   "version": "3.10.7"
  }
 },
 "nbformat": 4,
 "nbformat_minor": 5
}
