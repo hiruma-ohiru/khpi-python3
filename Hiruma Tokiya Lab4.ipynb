{
 "cells": [
  {
   "cell_type": "markdown",
   "id": "35163769",
   "metadata": {},
   "source": [
    "#### Laboratory work 4\n",
    "### Tokiya Hiruma КН-221іб.е\n",
    "<legend>Basics of the NumPy library</legend>"
   ]
  },
  {
   "cell_type": "code",
   "execution_count": 1,
   "id": "c6d8fc3d",
   "metadata": {},
   "outputs": [
    {
     "name": "stdout",
     "output_type": "stream",
     "text": [
      "Variant: 10\n"
     ]
    }
   ],
   "source": [
    "print(f'Variant: {ord(\"T\") % 15 + 1}')"
   ]
  },
  {
   "cell_type": "markdown",
   "id": "f21d4868",
   "metadata": {},
   "source": [
    "1. Perform a set of exercises. All tasks should be performed in two ways:\n",
    "<ol>\n",
    "    <li>using universal functions of the NumPy library;</li>\n",
    "    <li>using iterative constructions (using loops, list comprehensions, etc.</li>\n",
    "</ol> \n",
    "For both cases, calculate the execution time of the script and compare the values.\n",
    "\n",
    "2. Solve the system of linear equations using Cramer's formulas and check the result using:\n",
    "<ol> \n",
    "    <li> matrix multiplication;</li>\n",
    "    <li> inverse matrix;</li>\n",
    "    <li> numpy.linalg.solve().</li>\n",
    "</ol> \n",
    "Compare the results using numpy.allclose().\n",
    "\n",
    "3. Calculate the value of the matrix expression\n",
    "<ol>\n",
    "    <li>using the universal functions of the NumPy library.</li>\n",
    "    <li>using iterative constructions (using loops, list comprehensions, etc.).</li>\n",
    "    <li>for both cases, calculate the execution time of the script and compare the values.</li>\n",
    "</ol> \n",
    "4. Compare the results using numpy.allclose().\n",
    "5. Push the created notebook on GitHub.\n",
    "6. Prepare a report."
   ]
  },
  {
   "cell_type": "markdown",
   "id": "83527521",
   "metadata": {},
   "source": [
    "### Assignment 1\n",
    "#### 1, 2, 3, 4, 6, 8, 11, 20, 21\n"
   ]
  },
  {
   "cell_type": "code",
   "execution_count": 2,
   "id": "4346c9e2",
   "metadata": {},
   "outputs": [],
   "source": [
    "import numpy as np \n",
    "import time\n",
    "from math import sqrt"
   ]
  },
  {
   "cell_type": "markdown",
   "id": "85936482",
   "metadata": {},
   "source": [
    "#### Exercise 1\n",
    "Enter the number n. Output an array of size nхn, in which the diagonals\n",
    "are numbers from 1 to n, and other elements are 0"
   ]
  },
  {
   "cell_type": "code",
   "execution_count": 4,
   "id": "b8cbf065",
   "metadata": {},
   "outputs": [
    {
     "name": "stdout",
     "output_type": "stream",
     "text": [
      "Enter n: 20\n",
      "[[ 1  0  0  0  0  0  0  0  0  0  0  0  0  0  0  0  0  0  0  0]\n",
      " [ 0  2  0  0  0  0  0  0  0  0  0  0  0  0  0  0  0  0  0  0]\n",
      " [ 0  0  3  0  0  0  0  0  0  0  0  0  0  0  0  0  0  0  0  0]\n",
      " [ 0  0  0  4  0  0  0  0  0  0  0  0  0  0  0  0  0  0  0  0]\n",
      " [ 0  0  0  0  5  0  0  0  0  0  0  0  0  0  0  0  0  0  0  0]\n",
      " [ 0  0  0  0  0  6  0  0  0  0  0  0  0  0  0  0  0  0  0  0]\n",
      " [ 0  0  0  0  0  0  7  0  0  0  0  0  0  0  0  0  0  0  0  0]\n",
      " [ 0  0  0  0  0  0  0  8  0  0  0  0  0  0  0  0  0  0  0  0]\n",
      " [ 0  0  0  0  0  0  0  0  9  0  0  0  0  0  0  0  0  0  0  0]\n",
      " [ 0  0  0  0  0  0  0  0  0 10  0  0  0  0  0  0  0  0  0  0]\n",
      " [ 0  0  0  0  0  0  0  0  0  0 11  0  0  0  0  0  0  0  0  0]\n",
      " [ 0  0  0  0  0  0  0  0  0  0  0 12  0  0  0  0  0  0  0  0]\n",
      " [ 0  0  0  0  0  0  0  0  0  0  0  0 13  0  0  0  0  0  0  0]\n",
      " [ 0  0  0  0  0  0  0  0  0  0  0  0  0 14  0  0  0  0  0  0]\n",
      " [ 0  0  0  0  0  0  0  0  0  0  0  0  0  0 15  0  0  0  0  0]\n",
      " [ 0  0  0  0  0  0  0  0  0  0  0  0  0  0  0 16  0  0  0  0]\n",
      " [ 0  0  0  0  0  0  0  0  0  0  0  0  0  0  0  0 17  0  0  0]\n",
      " [ 0  0  0  0  0  0  0  0  0  0  0  0  0  0  0  0  0 18  0  0]\n",
      " [ 0  0  0  0  0  0  0  0  0  0  0  0  0  0  0  0  0  0 19  0]\n",
      " [ 0  0  0  0  0  0  0  0  0  0  0  0  0  0  0  0  0  0  0 20]]\n",
      "Time: 0.00899s\n"
     ]
    }
   ],
   "source": [
    "#using universal functions of the NumPy library\n",
    "def task_1_np():\n",
    "    n = int(input('Enter n: '))\n",
    "    start = time.time()\n",
    "    matrix = np.zeros((n, n), dtype=int)\n",
    "    np.fill_diagonal(matrix, np.arange(1, n+1))\n",
    "    print(matrix)\n",
    "    print(f'Time: {time.time() - start:.5f}s')\n",
    "    \n",
    "task_1_np()"
   ]
  },
  {
   "cell_type": "code",
   "execution_count": 35,
   "id": "88c03c63",
   "metadata": {},
   "outputs": [
    {
     "name": "stdout",
     "output_type": "stream",
     "text": [
      "Enter n: 20\n",
      "[[1, 0, 0, 0, 0, 0, 0, 0, 0, 0, 0, 0, 0, 0, 0, 0, 0, 0, 0, 0], [0, 2, 0, 0, 0, 0, 0, 0, 0, 0, 0, 0, 0, 0, 0, 0, 0, 0, 0, 0], [0, 0, 3, 0, 0, 0, 0, 0, 0, 0, 0, 0, 0, 0, 0, 0, 0, 0, 0, 0], [0, 0, 0, 4, 0, 0, 0, 0, 0, 0, 0, 0, 0, 0, 0, 0, 0, 0, 0, 0], [0, 0, 0, 0, 5, 0, 0, 0, 0, 0, 0, 0, 0, 0, 0, 0, 0, 0, 0, 0], [0, 0, 0, 0, 0, 6, 0, 0, 0, 0, 0, 0, 0, 0, 0, 0, 0, 0, 0, 0], [0, 0, 0, 0, 0, 0, 7, 0, 0, 0, 0, 0, 0, 0, 0, 0, 0, 0, 0, 0], [0, 0, 0, 0, 0, 0, 0, 8, 0, 0, 0, 0, 0, 0, 0, 0, 0, 0, 0, 0], [0, 0, 0, 0, 0, 0, 0, 0, 9, 0, 0, 0, 0, 0, 0, 0, 0, 0, 0, 0], [0, 0, 0, 0, 0, 0, 0, 0, 0, 10, 0, 0, 0, 0, 0, 0, 0, 0, 0, 0], [0, 0, 0, 0, 0, 0, 0, 0, 0, 0, 11, 0, 0, 0, 0, 0, 0, 0, 0, 0], [0, 0, 0, 0, 0, 0, 0, 0, 0, 0, 0, 12, 0, 0, 0, 0, 0, 0, 0, 0], [0, 0, 0, 0, 0, 0, 0, 0, 0, 0, 0, 0, 13, 0, 0, 0, 0, 0, 0, 0], [0, 0, 0, 0, 0, 0, 0, 0, 0, 0, 0, 0, 0, 14, 0, 0, 0, 0, 0, 0], [0, 0, 0, 0, 0, 0, 0, 0, 0, 0, 0, 0, 0, 0, 15, 0, 0, 0, 0, 0], [0, 0, 0, 0, 0, 0, 0, 0, 0, 0, 0, 0, 0, 0, 0, 16, 0, 0, 0, 0], [0, 0, 0, 0, 0, 0, 0, 0, 0, 0, 0, 0, 0, 0, 0, 0, 17, 0, 0, 0], [0, 0, 0, 0, 0, 0, 0, 0, 0, 0, 0, 0, 0, 0, 0, 0, 0, 18, 0, 0], [0, 0, 0, 0, 0, 0, 0, 0, 0, 0, 0, 0, 0, 0, 0, 0, 0, 0, 19, 0], [0, 0, 0, 0, 0, 0, 0, 0, 0, 0, 0, 0, 0, 0, 0, 0, 0, 0, 0, 20]]\n",
      "Time: 0.00019s\n"
     ]
    }
   ],
   "source": [
    "#using iterative constructions (using loops, list comprehensions, etc.)\n",
    "def task_1_iter():\n",
    "    n = int(input('Enter n: '))\n",
    "    start = time.time()\n",
    "    matrix = []\n",
    "    diagonal_value = 1\n",
    "    for i in range(n):\n",
    "        row = []\n",
    "        for j in range(n):\n",
    "            if i == j:\n",
    "                row.append(diagonal_value)\n",
    "                diagonal_value += 1\n",
    "            else: \n",
    "                row.append(0)\n",
    "        matrix.append(row)\n",
    "        row.clear\n",
    "    print(matrix)\n",
    "    print(f'Time: {time.time() - start:.5f}s')\n",
    "\n",
    "task_1_iter()"
   ]
  },
  {
   "cell_type": "markdown",
   "id": "2fb721c9",
   "metadata": {},
   "source": [
    "#### Exercise 2\n",
    "Enter the number n. Arrange 1 and 0 in a checkerboard pattern, starting\n",
    "with 0 in a matrix of size nхn, using slicing."
   ]
  },
  {
   "cell_type": "code",
   "execution_count": 16,
   "id": "13e025bd",
   "metadata": {},
   "outputs": [
    {
     "name": "stdout",
     "output_type": "stream",
     "text": [
      "Enter n: 5\n",
      "[[0 1 0 1 0]\n",
      " [1 0 1 0 1]\n",
      " [0 1 0 1 0]\n",
      " [1 0 1 0 1]\n",
      " [0 1 0 1 0]]\n",
      "Time: 0.00037s\n"
     ]
    }
   ],
   "source": [
    "#using universal functions of the NumPy library\n",
    "def task_2():\n",
    "    n = int(input('Enter n: '))\n",
    "    start = time.time()\n",
    "    arr = np.zeros((n, n), dtype=int)\n",
    "    arr[1::2,::2] = 1\n",
    "    arr[::2,1::2] = 1\n",
    "    print(arr)\n",
    "    print(f'Time: {time.time() - start:.5f}s')\n",
    "    \n",
    "task_2()"
   ]
  },
  {
   "cell_type": "markdown",
   "id": "6c0cf4d7",
   "metadata": {},
   "source": [
    "#### Exercise 3\n",
    "Enter 4 numbers n, m, r, c. Output an array of size nхm, in which in each r -th row and in each c-th column are 0, and other elements are equal to 1."
   ]
  },
  {
   "cell_type": "code",
   "execution_count": 45,
   "id": "ddbf24ca",
   "metadata": {},
   "outputs": [
    {
     "name": "stdout",
     "output_type": "stream",
     "text": [
      "Enter n: 6\n",
      "Enter m: 7\n",
      "Enter r: 2\n",
      "Enter c: 3\n",
      "[[0 0 0 0 0 0 0]\n",
      " [1 1 1 0 1 1 1]\n",
      " [0 0 0 0 0 0 0]\n",
      " [1 1 1 0 1 1 1]\n",
      " [0 0 0 0 0 0 0]\n",
      " [1 1 1 0 1 1 1]]\n",
      "Time: 0.00042s\n"
     ]
    }
   ],
   "source": [
    "#using universal functions of the NumPy library\n",
    "def task_3():\n",
    "    n = int(input('Enter n: '))\n",
    "    m = int(input('Enter m: '))\n",
    "    r = int(input('Enter r: '))\n",
    "    c = int(input('Enter c: '))\n",
    "    start = time.time()\n",
    "    arr = np.full((n, m), 1)\n",
    "    arr[::r] = np.zeros(m, dtype='int')\n",
    "    arr[:,c] = np.zeros(n, dtype='int')\n",
    "    print(arr)\n",
    "    print(f'Time: {time.time() - start:.5f}s')\n",
    "    \n",
    "task_3()"
   ]
  },
  {
   "cell_type": "markdown",
   "id": "968419d8",
   "metadata": {},
   "source": [
    "#### Exercise 4\n",
    "Enter the numbers n and m. Output an array of size nхm, in which the first line (line with zero index) are numbers from 0 to m-1, and all other elements of the matrix are equal to 0."
   ]
  },
  {
   "cell_type": "code",
   "execution_count": 49,
   "id": "a3c022cd",
   "metadata": {},
   "outputs": [
    {
     "name": "stdout",
     "output_type": "stream",
     "text": [
      "Enter n: 5\n",
      "Enter m: 5\n",
      "[[0 1 2 3 4]\n",
      " [0 0 0 0 0]\n",
      " [0 0 0 0 0]\n",
      " [0 0 0 0 0]\n",
      " [0 0 0 0 0]]\n",
      "Time: 0.00046s\n"
     ]
    }
   ],
   "source": [
    "#using universal functions of the NumPy library\n",
    "def task_4():\n",
    "    n = int(input('Enter n: '))\n",
    "    m = int(input('Enter m: '))\n",
    "    start = time.time()\n",
    "    arr = np.zeros((n, m), dtype='int')\n",
    "    arr[:1] = np.arange(m)\n",
    "    print(arr)\n",
    "    print(f'Time: {time.time() - start:.5f}s')\n",
    "    \n",
    "task_4()"
   ]
  },
  {
   "cell_type": "markdown",
   "id": "43f4e9fb",
   "metadata": {},
   "source": [
    "#### Exercise 6\n",
    "An array is entered from the keyboard. Replace all non-zero elements with -1."
   ]
  },
  {
   "cell_type": "code",
   "execution_count": 7,
   "id": "0b9a0564",
   "metadata": {},
   "outputs": [
    {
     "name": "stdout",
     "output_type": "stream",
     "text": [
      "6\n",
      "Array: -1 0 4 0 99 -12\n",
      "[-1  0 -1  0 -1 -1]\n",
      "Time: 0.00039s\n"
     ]
    }
   ],
   "source": [
    "#using universal functions of the NumPy library\n",
    "def task_6():\n",
    "    n = int(input())\n",
    "    l = list(map(int, input(\"Array: \").strip().split()))\n",
    "    start = time.time()\n",
    "    arr = np.asarray(l)\n",
    "    arr[arr != 0] = -1\n",
    "    print(arr)\n",
    "    print(f'Time: {time.time() - start:.5f}s')\n",
    "task_6()"
   ]
  },
  {
   "cell_type": "markdown",
   "id": "10d5768f",
   "metadata": {},
   "source": [
    "#### Exercise 8\n",
    "An array is entered from the keyboard. Count the number of zero and\n",
    "non-zero elements in it."
   ]
  },
  {
   "cell_type": "code",
   "execution_count": 8,
   "id": "22cf02f9",
   "metadata": {},
   "outputs": [
    {
     "name": "stdout",
     "output_type": "stream",
     "text": [
      "10\n",
      "Array: 1 2 3 0 4 1 0 2 -1 0\n",
      "Zeros count: 3, nonzeros count: 7\n",
      "Time: 0.00016s\n"
     ]
    }
   ],
   "source": [
    "#using universal functions of the NumPy library\n",
    "def task_8():\n",
    "    n = int(input())\n",
    "    l = list(map(int, input(\"Array: \").strip().split()))\n",
    "    start = time.time()\n",
    "    arr = np.asarray(l)\n",
    "    nonzero = np.count_nonzero(arr)\n",
    "    zero = arr.size - nonzero\n",
    "    print(f'Zeros count: {zero}, nonzeros count: {nonzero}')\n",
    "    print(f'Time: {time.time() - start:.5f}s')\n",
    "task_8()"
   ]
  },
  {
   "cell_type": "markdown",
   "id": "a1d8f708",
   "metadata": {},
   "source": [
    "###　いらない　⇩⇩⇩⇩"
   ]
  },
  {
   "cell_type": "code",
   "execution_count": 32,
   "id": "eff8722d",
   "metadata": {},
   "outputs": [],
   "source": [
    "#using universal functions of the NumPy library\n",
    "def assignment_1_numpy(array):\n",
    "    start = time.time()\n",
    "    a_min = np.amin(array)\n",
    "    a_max = np.amax(array)\n",
    "    a_mean = np.mean(array)\n",
    "    a_dev = np.std(array)\n",
    "    return f'Minimum: {a_min} \\nMaximum: {a_max} \\nMean: {a_mean:.3f} \\nDeviation: {a_dev:.3f} \\nTime: {time.time() - start:.3f}s'"
   ]
  },
  {
   "cell_type": "code",
   "execution_count": 4,
   "id": "bbbc5644",
   "metadata": {},
   "outputs": [],
   "source": [
    "#using iterative constructions (using loops, list comprehensions, etc.\n",
    "def min_c(array):\n",
    "    minimum = array[0]\n",
    "    for elem in array:\n",
    "        if elem < minimum:\n",
    "            minimum = elem\n",
    "    return minimum\n",
    "\n",
    "def max_c(array):\n",
    "    maximum = array[0]\n",
    "    for elem in array:\n",
    "        if elem > maximum:\n",
    "            minimum = elem\n",
    "    return maximum\n",
    "\n",
    "def mean_c(array):\n",
    "    mean = sum(array) / len(array)\n",
    "    return mean\n",
    "\n",
    "def deviation_c(array):\n",
    "    mean = mean_c(array)\n",
    "    deviations= [(x - mean) ** 2 for x in array]\n",
    "    variance = sum(deviations) / len(array)\n",
    "    return sqrt(variance)\n",
    "\n",
    "def assignment_1_iteration(array):\n",
    "    start = time.time()\n",
    "    a_min = min_c(array)\n",
    "    a_max = max_c(array)\n",
    "    a_mean = mean_c(array)\n",
    "    a_dev = deviation_c(array)\n",
    "    return f'Minimum: {a_min} \\nMaximum: {a_max} \\nMean: {a_mean:.3f} \\nDeviation: {a_dev:.3f} \\nTime: {time.time() - start:.3f}s'"
   ]
  },
  {
   "cell_type": "code",
   "execution_count": 5,
   "id": "52967c1f",
   "metadata": {},
   "outputs": [
    {
     "name": "stdout",
     "output_type": "stream",
     "text": [
      "Enter n 500\n",
      "Enter m 600\n",
      "\tUsing NumPy \n",
      "Minimum: 0 \n",
      "Maximum: 99 \n",
      "Mean: 49.559 \n",
      "Deviation: 28.859 \n",
      "Time: 0.002s\n",
      "\tUsing Iterative constructions \n",
      "Minimum: 0 \n",
      "Maximum: 20 \n",
      "Mean: 49.559 \n",
      "Deviation: 28.859 \n",
      "Time: 0.129s\n"
     ]
    }
   ],
   "source": [
    "n = int(input('Enter n '))\n",
    "m = int(input('Enter m '))\n",
    "\n",
    "array = np.random.randint(100, size=(n*m))\n",
    "print(f'\\tUsing NumPy \\n{assignment_1_numpy(array)}')\n",
    "print(f'\\tUsing Iterative constructions \\n{assignment_1_iteration(array)}')"
   ]
  },
  {
   "cell_type": "markdown",
   "id": "2038f1ec",
   "metadata": {},
   "source": [
    "<legend>Calculating using NumPy library is much more convenient and faster.</legend>"
   ]
  },
  {
   "cell_type": "markdown",
   "id": "3120c716",
   "metadata": {},
   "source": [
    "### Assignment 2"
   ]
  },
  {
   "cell_type": "markdown",
   "id": "1ee00a04",
   "metadata": {},
   "source": [
    "$$\n",
    "\\left\\{\n",
    "    \\begin{array}\\\\\n",
    "        4x_1 + x_2 -x_4 = -9 \\\\\n",
    "        x_1 - 3x_2 + 4x_3 = 7 \\\\\n",
    "        3x_2 - 2x_3 + 4x_4 = 12 \\\\\n",
    "        x_1 + 2x_3 +4x_4 = 12 \\\\\n",
    "    \\end{array}\n",
    "\\right.\n",
    "$$\n"
   ]
  },
  {
   "cell_type": "markdown",
   "id": "3e204c67",
   "metadata": {},
   "source": [
    "#### 1. Create five 4x4 matrixes with the equations\n",
    "$$\n",
    "\\Delta= \\begin{vmatrix}\n",
    "4 & 1 & 0 & -1 \\\\\n",
    "1 & -3 & 4 & 0 \\\\\n",
    "0 & 3 & -2 & 4 \\\\\n",
    "1 & 2 & 0 & 4\n",
    "\\end{vmatrix}\n",
    "$$\n",
    "\n",
    "$$\n",
    "\\Delta_1 = \\begin{vmatrix}\n",
    "-9 & 1 & 0 & -1 \\\\\n",
    "7 & -3 & 4 & 0 \\\\\n",
    "12 & 3 & -2 & 4 \\\\\n",
    "12 & 2 & 0 & 4\n",
    "\\end{vmatrix}\n",
    "$$\n",
    "\n",
    "$$\n",
    "\\Delta_2 = \\begin{vmatrix}\n",
    "4 & -9 & 0 & -1 \\\\\n",
    "1 & 7 & 4 & 0 \\\\\n",
    "0 & 12 & -2 & 4 \\\\\n",
    "1 & 12 & 0 & 4\n",
    "\\end{vmatrix}\n",
    "$$\n",
    "\n",
    "$$\n",
    "\\Delta_3 = \\begin{vmatrix}\n",
    "4 & 1 & -9 & -1 \\\\\n",
    "1 & -3 & 7 & 0 \\\\\n",
    "0 & 3 & 12 & 4 \\\\\n",
    "1 & 2 & 12 & 4\n",
    "\\end{vmatrix}\n",
    "$$\n",
    "\n",
    "$$\n",
    "\\Delta_3 = \\begin{vmatrix}\n",
    "4 & 1 & 0 & -9 \\\\\n",
    "1 & -3 & 4 & 7 \\\\\n",
    "0 & 3 & -2 & 12 \\\\\n",
    "1 & 2 & 0 & 12\n",
    "\\end{vmatrix}\n",
    "$$"
   ]
  },
  {
   "cell_type": "code",
   "execution_count": 11,
   "id": "0b7d8e30",
   "metadata": {},
   "outputs": [],
   "source": [
    "A0 = np.array([[4, 1, 0, -1], [1, -3, 4, 0], [0, 3, -2, 4], [1, 2, 0, 4]])\n",
    "A1 = np.array([[-9, 1, 0, -1], [7, -3, 4, 0], [12, 3, -2, 4], [12, 2, 0, 4]])\n",
    "A2 = np.array([[4, -9, 0, -1], [1, 7, 4, 0], [0, 12, -2, 4], [1, 12, 0, 4]])\n",
    "A3 = np.array([[4, 1, -9, -1], [1, -3, 7, 0], [0, 3, 12, 4], [1, 2, 12, 4]])\n",
    "A4 = np.array([[4, 1, 0, -9], [1, -3, 4, 7], [0, 3, -2, 12], [1, 2, 0, 12]])"
   ]
  },
  {
   "cell_type": "markdown",
   "id": "aa42ad08",
   "metadata": {},
   "source": [
    "#### 2. Determine the determinate of each matrix"
   ]
  },
  {
   "cell_type": "code",
   "execution_count": 13,
   "id": "78da5d32",
   "metadata": {},
   "outputs": [],
   "source": [
    "Ax = np.linalg.det(A0)\n",
    "Ax1 = np.linalg.det(A1)\n",
    "Ax2 = np.linalg.det(A2)\n",
    "Ax3 = np.linalg.det(A3)\n",
    "Ax4 = np.linalg.det(A4)"
   ]
  },
  {
   "cell_type": "markdown",
   "id": "360cbc5f",
   "metadata": {},
   "source": [
    "#### 3. Determine the values x1, x2, x3 and x4\n",
    "$$\n",
    "x_1=\\frac{\\Delta x_1}{\\Delta x_0};\n",
    "x_2=\\frac{\\Delta x_2}{\\Delta x_0};\n",
    "x_3=\\frac{\\Delta x_3}{\\Delta x_0};\n",
    "x_4=\\frac{\\Delta x_4}{\\Delta x_0};\n",
    "$$"
   ]
  },
  {
   "cell_type": "code",
   "execution_count": 15,
   "id": "937aa236",
   "metadata": {},
   "outputs": [
    {
     "name": "stdout",
     "output_type": "stream",
     "text": [
      "x1: 1.64, x2: -8.64, x3: -5.14, x4: 6.91\n"
     ]
    }
   ],
   "source": [
    "x1 = Ax1 / Ax\n",
    "x2 = Ax2 / Ax\n",
    "x3 = Ax3 / Ax\n",
    "x4 = Ax4 / Ax\n",
    "\n",
    "print(f'x1: {x1:.2f}, x2: {x2:.2f}, x3: {x3:.2f}, x4: {x4:.2f}')"
   ]
  }
 ],
 "metadata": {
  "kernelspec": {
   "display_name": "Python 3 (ipykernel)",
   "language": "python",
   "name": "python3"
  },
  "language_info": {
   "codemirror_mode": {
    "name": "ipython",
    "version": 3
   },
   "file_extension": ".py",
   "mimetype": "text/x-python",
   "name": "python",
   "nbconvert_exporter": "python",
   "pygments_lexer": "ipython3",
   "version": "3.10.7"
  }
 },
 "nbformat": 4,
 "nbformat_minor": 5
}
