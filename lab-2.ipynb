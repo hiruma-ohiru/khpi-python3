{
 "cells": [
  {
   "cell_type": "markdown",
   "id": "1c5ed353",
   "metadata": {},
   "source": [
    "# Laboratory work 2\n",
    "### Tokiya Hiruma КН-221іб.е\n",
    "<legend>Working with lasses in Python</legend>"
   ]
  },
  {
   "cell_type": "code",
   "execution_count": 1,
   "id": "e2e76627",
   "metadata": {},
   "outputs": [
    {
     "name": "stdout",
     "output_type": "stream",
     "text": [
      "Variant: 1\n"
     ]
    }
   ],
   "source": [
    "print(f'Variant: {ord(\"T\") % 3 + 1}')"
   ]
  },
  {
   "cell_type": "markdown",
   "id": "119c75b5",
   "metadata": {},
   "source": [
    "<h3>Task 1</h3>\n",
    "Create the class Point and implement the following methods:\n",
    "<il>\n",
    "    <li>Constructor with x and y coordinates as parameters;</li>\n",
    "    <li>__str__ method to represents the class objects as a string.</li>\n",
    "</il>"
   ]
  },
  {
   "cell_type": "code",
   "execution_count": 9,
   "id": "ba10d0e1",
   "metadata": {},
   "outputs": [],
   "source": [
    "class Point:\n",
    "    def __init__(self, x, y):\n",
    "        self.x = x\n",
    "        self.y = y\n",
    "    \n",
    "    def __str__(self):\n",
    "        return f'x = {self.x}; y = {self.y}'\n"
   ]
  },
  {
   "cell_type": "code",
   "execution_count": 10,
   "id": "a9e404ba",
   "metadata": {},
   "outputs": [
    {
     "name": "stdout",
     "output_type": "stream",
     "text": [
      "5 12\n",
      "x = 5; y = 12\n"
     ]
    }
   ],
   "source": [
    "p1 = Point(5, 12)\n",
    "print(p1.x, p1.y)\n",
    "print(p1)"
   ]
  },
  {
   "cell_type": "markdown",
   "id": "5eba0923",
   "metadata": {},
   "source": [
    "<h3>Task 2</h3>\n",
    "Create the class Line and implement the following methods:\n",
    "<il>\n",
    "    <li>constructor that takes k and b coefficients as parameters. Note that lines are defined by linear equations: y = k * x + b.</li>\n",
    "    <li>__str__ method to represents the class objects as a string in the form y = k * x + b</li>\n",
    "    <li>method intersection(Line), that must return a Point of intersection of two lines. If lines coincide or do not intersect, the method must return None.</li>\n",
    "</il>"
   ]
  },
  {
   "cell_type": "code",
   "execution_count": 15,
   "id": "df4d03f1",
   "metadata": {},
   "outputs": [],
   "source": [
    "class Line:\n",
    "    def __init__(self, x, b):\n",
    "        self.x = x\n",
    "        self.b = b\n",
    "    \n",
    "    def __str__(self):\n",
    "        return f'y = k * {self.x} + {self.b}'\n",
    "\n",
    "    def intersection(self, line):\n",
    "        if self.x == line.x:\n",
    "            return None\n",
    "        else:\n",
    "            intersect_x = (line.b - self.b) / (self.x - line.x)\n",
    "            intersect_y = (self.x * line.b - line.x * self.b) / (self.x - line.x)\n",
    "        return Point(intersect_x, intersect_y)"
   ]
  },
  {
   "cell_type": "code",
   "execution_count": 16,
   "id": "8899eb25",
   "metadata": {},
   "outputs": [],
   "source": [
    "line1 = Line(3,3)\n",
    "line2 = Line(2,5)"
   ]
  },
  {
   "cell_type": "code",
   "execution_count": 17,
   "id": "d7f48e6c",
   "metadata": {},
   "outputs": [
    {
     "name": "stdout",
     "output_type": "stream",
     "text": [
      "y = k * 3 + 3\n",
      "y = k * 2 + 5\n",
      "x = 2.0; y = 9.0\n"
     ]
    }
   ],
   "source": [
    "print(line1)\n",
    "print(line2)\n",
    "print(line1.intersection(line2))"
   ]
  },
  {
   "cell_type": "code",
   "execution_count": 18,
   "id": "14d79afe",
   "metadata": {},
   "outputs": [],
   "source": [
    "line1 = Line(2,3)\n",
    "line2 = Line(2,5)"
   ]
  },
  {
   "cell_type": "code",
   "execution_count": 19,
   "id": "3b7ab3f5",
   "metadata": {},
   "outputs": [
    {
     "name": "stdout",
     "output_type": "stream",
     "text": [
      "y = k * 2 + 3\n",
      "y = k * 2 + 5\n",
      "None\n"
     ]
    }
   ],
   "source": [
    "print(line1)\n",
    "print(line2)\n",
    "print(line1.intersection(line2))"
   ]
  },
  {
   "cell_type": "code",
   "execution_count": 22,
   "id": "3eec8617",
   "metadata": {},
   "outputs": [],
   "source": [
    "line1 = Line(-1,0)\n",
    "line2 = Line(0,-1)"
   ]
  },
  {
   "cell_type": "code",
   "execution_count": 23,
   "id": "8bee3cec",
   "metadata": {},
   "outputs": [
    {
     "name": "stdout",
     "output_type": "stream",
     "text": [
      "y = k * -1 + 0\n",
      "y = k * 0 + -1\n",
      "x = 1.0; y = -1.0\n"
     ]
    }
   ],
   "source": [
    "print(line1)\n",
    "print(line2)\n",
    "print(line1.intersection(line2))"
   ]
  }
 ],
 "metadata": {
  "kernelspec": {
   "display_name": "Python 3 (ipykernel)",
   "language": "python",
   "name": "python3"
  },
  "language_info": {
   "codemirror_mode": {
    "name": "ipython",
    "version": 3
   },
   "file_extension": ".py",
   "mimetype": "text/x-python",
   "name": "python",
   "nbconvert_exporter": "python",
   "pygments_lexer": "ipython3",
   "version": "3.10.7"
  }
 },
 "nbformat": 4,
 "nbformat_minor": 5
}
